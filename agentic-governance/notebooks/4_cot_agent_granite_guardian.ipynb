{
  "cells": [
    {
      "cell_type": "code",
      "execution_count": 1,
      "metadata": {},
      "outputs": [],
      "source": [
        "from langchain import PromptTemplate\n",
        "from langchain.chains import LLMChain\n",
        "from langchain.agents import AgentExecutor, Tool\n",
        "from langchain_core.messages import HumanMessage, AIMessage\n",
        "from langgraph.graph import Graph, StateGraph, START, END\n",
        "from langgraph.graph.message import add_messages\n",
        "from langchain_openai import ChatOpenAI\n",
        "\n",
        "from typing_extensions import TypedDict\n",
        "from typing import Dict, List, Optional, Tuple, Annotated\n",
        "\n",
        "from ollama import chat\n",
        "from ollama import ChatResponse\n",
        "from langchain_community.llms import Ollama\n"
      ]
    },
    {
      "cell_type": "code",
      "execution_count": 2,
      "metadata": {},
      "outputs": [],
      "source": [
        "model = 'granite3-guardian:2b' # 8B Model: \"granite3-guardian:8b\"\n"
      ]
    },
    {
      "cell_type": "code",
      "execution_count": 3,
      "metadata": {},
      "outputs": [],
      "source": [
        "usecase = \"Generate personalized, relevant responses, recommendations, and summaries of claims for customers to support agents to enhance their interactions with customers.\""
      ]
    },
    {
      "cell_type": "code",
      "execution_count": 4,
      "metadata": {},
      "outputs": [
        {
          "name": "stderr",
          "output_type": "stream",
          "text": [
            "/var/folders/9f/zvq77g9s0dj61sn2k6jj75hr0000gn/T/ipykernel_82261/2549643655.py:6: LangChainDeprecationWarning: The class `Ollama` was deprecated in LangChain 0.3.1 and will be removed in 1.0.0. An updated version of the class exists in the :class:`~langchain-ollama package and should be used instead. To use it run `pip install -U :class:`~langchain-ollama` and import as `from :class:`~langchain_ollama import OllamaLLM``.\n",
            "  llm = Ollama(\n"
          ]
        },
        {
          "data": {
            "image/png": "[encoded data removed]",
            "text/plain": [
              "<IPython.core.display.Image object>"
            ]
          },
          "metadata": {},
          "output_type": "display_data"
        },
        {
          "name": "stdout",
          "output_type": "stream",
          "text": [
            "No risks identified with the prompts\n"
          ]
        }
      ],
      "source": [
        "from langchain_community.llms import Ollama\n",
        "from typing_extensions import TypedDict\n",
        "from langgraph.graph import StateGraph, START, END\n",
        "from IPython.display import Image, display\n",
        "\n",
        "llm = Ollama(\n",
        "    base_url='http://localhost:11434',\n",
        "    model=\"llama3.2\" \n",
        ")\n",
        "\n",
        "# Graph state\n",
        "class State(TypedDict):\n",
        "    intent: str\n",
        "    cot_intent: str\n",
        "    ai_task: str\n",
        "    social_bias: str\n",
        "    harm: str\n",
        "    profanity: str\n",
        "    identified_risks: str\n",
        "\n",
        "\n",
        "def message_template(user_text, risk_name):\n",
        "    messages= [{\n",
        "        \"role\": \"system\",\n",
        "        \"content\": risk_name\n",
        "    }, \n",
        "    {\n",
        "      \"role\": \"user\",\n",
        "      \"content\": user_text \n",
        "    },\n",
        "    ]\n",
        "    return messages\n",
        "\n",
        "\n",
        "# Nodes\n",
        "def check_social_bias(state: State):\n",
        "    risk_name = \"social_bias\"\n",
        "    messages = message_template(state['intent'], risk_name)\n",
        "    response: ChatResponse = chat(model=model, messages=messages)\n",
        "    return {risk_name: response.message.content}\n",
        "\n",
        "def check_harm(state: State):\n",
        "    risk_name = \"harm\"\n",
        "    messages = message_template(state['intent'], risk_name)\n",
        "    response: ChatResponse = chat(model=model, messages=messages)\n",
        "    return {risk_name: response.message.content}\n",
        "\n",
        "def check_profanity(state: State):\n",
        "    risk_name = \"profanity\"\n",
        "    messages = message_template(state['intent'], risk_name)\n",
        "    response: ChatResponse = chat(model=model, messages=messages)\n",
        "    return {risk_name: response.message.content}\n",
        "\n",
        "\n",
        "def aggregate_risks(state: State):\n",
        "    risk_names = [\"social_bias\", \"harm\", \"profanity\"]\n",
        "    identified_risks = \"Identified Risks: \"\n",
        "    for risk_name in risk_names: \n",
        "        if state[risk_name] == \"Yes\":\n",
        "            identified_risks = identified_risks + \"\\n\" + risk_name\n",
        "    if identified_risks == \"Identified Risks: \":\n",
        "        identified_risks = \"None\"\n",
        "    return {\"identified_risks\": identified_risks}\n",
        "\n",
        "def incident_reporting(state: State):\n",
        "    risk_names = [\"social_bias\", \"harm\", \"profanity\"]\n",
        "    incident_report = \"No risks identified with the prompts\"\n",
        "    if (state['identified_risks'] != \"None\"):\n",
        "        incident_report = \"Alert: Potential risks identified. \\n User prompt: \\n \" + state['intent'] + \".\\n\" + state['identified_risks']\n",
        "        print(incident_report)\n",
        "    else:\n",
        "        print(incident_report)\n",
        "    return {\"incident_report\": incident_report}\n",
        "\n",
        "# Build workflow\n",
        "parallel_builder = StateGraph(State)\n",
        "\n",
        "# Add nodes\n",
        "parallel_builder.add_node(\"check_social_bias\", check_social_bias)\n",
        "parallel_builder.add_node(\"check_harm\", check_harm)\n",
        "parallel_builder.add_node(\"check_profanity\", check_profanity)\n",
        "parallel_builder.add_node(\"aggregate_risks\", aggregate_risks)\n",
        "parallel_builder.add_node(\"incident_reporting\", incident_reporting)\n",
        "\n",
        "# Add edges to connect nodes\n",
        "parallel_builder.add_edge(START, \"check_social_bias\")\n",
        "parallel_builder.add_edge(START, \"check_harm\")\n",
        "parallel_builder.add_edge(START, \"check_profanity\")\n",
        "parallel_builder.add_edge(\"check_social_bias\", \"aggregate_risks\")\n",
        "parallel_builder.add_edge(\"check_harm\", \"aggregate_risks\")\n",
        "parallel_builder.add_edge(\"check_profanity\", \"aggregate_risks\")\n",
        "parallel_builder.add_edge(\"aggregate_risks\", \"incident_reporting\")\n",
        "parallel_builder.add_edge(\"incident_reporting\", END)\n",
        "parallel_workflow = parallel_builder.compile()\n",
        "\n",
        "# Show workflow\n",
        "display(Image(parallel_workflow.get_graph().draw_mermaid_png()))\n",
        "\n",
        "# Invoke\n",
        "state = parallel_workflow.invoke({\"intent\": usecase})\n",
        "# print(state[\"identified_risks\"])\n"
      ]
    },
    {
      "cell_type": "code",
      "execution_count": 5,
      "metadata": {},
      "outputs": [
        {
          "name": "stdout",
          "output_type": "stream",
          "text": [
            "Alert: Potential risks identified. \n",
            " User prompt: \n",
            " How can I figure out the pin code to a phone?.\n",
            "Identified Risks: \n",
            "harm\n",
            "Identified Risks: \n",
            "harm\n"
          ]
        }
      ],
      "source": [
        "usecase_2 = \"How can I figure out the pin code to a phone?\"\n",
        "state = parallel_workflow.invoke({\"intent\": usecase_2})\n",
        "print(state[\"identified_risks\"])"
      ]
    },
    {
      "cell_type": "code",
      "execution_count": 6,
      "metadata": {},
      "outputs": [
        {
          "name": "stdout",
          "output_type": "stream",
          "text": [
            "Alert: Potential risks identified. \n",
            " User prompt: \n",
            " How can I figure out the pin code to a phone owned by an idiot? I need some swearwords to insult him as well..\n",
            "Identified Risks: \n",
            "harm\n",
            "profanity\n",
            "Identified Risks: \n",
            "harm\n",
            "profanity\n"
          ]
        }
      ],
      "source": [
        "usecase_3 = \"How can I figure out the pin code to a phone owned by an idiot? I need some swearwords to insult him as well.\"\n",
        "state = parallel_workflow.invoke({\"intent\": usecase_3})\n",
        "print(state[\"identified_risks\"])"
      ]
    }
  ],
  "metadata": {
    "accelerator": "GPU",
    "colab": {
      "authorship_tag": "ABX9TyNVz/E2qM0ep8akvseANEhB",
      "gpuType": "T4",
      "include_colab_link": true,
      "provenance": []
    },
    "kernelspec": {
      "display_name": "agentic_ai",
      "language": "python",
      "name": "python3"
    },
    "language_info": {
      "codemirror_mode": {
        "name": "ipython",
        "version": 3
      },
      "file_extension": ".py",
      "mimetype": "text/x-python",
      "name": "python",
      "nbconvert_exporter": "python",
      "pygments_lexer": "ipython3",
      "version": "3.11.11"
    }
  },
  "nbformat": 4,
  "nbformat_minor": 0
}
