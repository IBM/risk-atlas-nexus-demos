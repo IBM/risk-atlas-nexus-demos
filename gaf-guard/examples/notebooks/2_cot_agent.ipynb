{
  "cells": [
    {
      "cell_type": "code",
      "execution_count": 1,
      "metadata": {},
      "outputs": [],
      "source": [
        "from langchain import PromptTemplate\n",
        "from langchain.chains import LLMChain\n",
        "from langchain.agents import AgentExecutor, Tool\n",
        "from langchain_core.messages import HumanMessage, AIMessage\n",
        "from langgraph.graph import Graph, StateGraph, START, END\n",
        "from langgraph.graph.message import add_messages\n",
        "from langchain_openai import ChatOpenAI\n",
        "\n",
        "from typing_extensions import TypedDict\n",
        "from typing import Dict, List, Optional, Tuple, Annotated\n",
        "\n"
      ]
    },
    {
      "cell_type": "code",
      "execution_count": 2,
      "metadata": {},
      "outputs": [],
      "source": [
        "from langchain_core.messages import ToolMessage\n",
        "from langchain_core.runnables import RunnableLambda\n",
        "\n",
        "from langgraph.prebuilt import ToolNode\n",
        "\n",
        "\n",
        "def handle_tool_error(state) -> dict:\n",
        "    error = state.get(\"error\")\n",
        "    tool_calls = state[\"messages\"][-1].tool_calls\n",
        "    return {\n",
        "        \"messages\": [\n",
        "            ToolMessage(\n",
        "                content=f\"Error: {repr(error)}\\n please fix your mistakes.\",\n",
        "                tool_call_id=tc[\"id\"],\n",
        "            )\n",
        "            for tc in tool_calls\n",
        "        ]\n",
        "    }\n",
        "\n",
        "\n",
        "def create_tool_node_with_fallback(tools: list) -> dict:\n",
        "    return ToolNode(tools).with_fallbacks(\n",
        "        [RunnableLambda(handle_tool_error)], exception_key=\"error\"\n",
        "    )\n",
        "\n",
        "\n",
        "def _print_event(event: dict, _printed: set, max_length=1500):\n",
        "    current_state = event.get(\"dialog_state\")\n",
        "    if current_state:\n",
        "        print(\"Currently in: \", current_state[-1])\n",
        "    message = event.get(\"messages\")\n",
        "    if message:\n",
        "        if isinstance(message, list):\n",
        "            message = message[-1]\n",
        "        if message.id not in _printed:\n",
        "            msg_repr = message.pretty_repr(html=True)\n",
        "            if len(msg_repr) > max_length:\n",
        "                msg_repr = msg_repr[:max_length] + \" ... (truncated)\"\n",
        "            print(msg_repr)\n",
        "            _printed.add(message.id)"
      ]
    },
    {
      "cell_type": "code",
      "execution_count": 3,
      "metadata": {},
      "outputs": [
        {
          "name": "stderr",
          "output_type": "stream",
          "text": [
            "/var/folders/9f/zvq77g9s0dj61sn2k6jj75hr0000gn/T/ipykernel_50276/166112536.py:2: LangChainDeprecationWarning: The class `Ollama` was deprecated in LangChain 0.3.1 and will be removed in 1.0.0. An updated version of the class exists in the :class:`~langchain-ollama package and should be used instead. To use it run `pip install -U :class:`~langchain-ollama` and import as `from :class:`~langchain_ollama import OllamaLLM``.\n",
            "  llm = Ollama(\n"
          ]
        }
      ],
      "source": [
        "from langchain_community.llms import Ollama\n",
        "llm = Ollama(\n",
        "    base_url='http://localhost:11434',\n",
        "    model=\"llama3.2\"\n",
        ")"
      ]
    },
    {
      "cell_type": "code",
      "execution_count": 5,
      "metadata": {},
      "outputs": [
        {
          "name": "stdout",
          "output_type": "stream",
          "text": [
            "{'0': {'question': 'In which environment is the system used?', 'examples': {'answers': [\" Insurance Claims Processing or Risk Management or Data Analytics \\nExplanation: 1. Insurance Claims Processing: The system might be used by an insurance company's claims processing department to analyze and identify patterns in healthcare insurance claims. 2. Risk Management: The system could be applied in risk management teams to detect potential risks and opportunities for cost savings. 3. Data Analytics: The system might be used by a data analytics team within the healthcare insurance company to identify patterns in claims data, helping to inform business decisions .\", ' Municipal Waste Management or Private Waste Management departments \\nExplanation: Waste management companies need to efficiently collect and process waste while minimizing costs and environmental impact. By using generative AI to analyze historical data on waste generation, recycling rates, and resource utilization, they can optimize collection routes, reduce fuel consumption, and lower labor costs.', ' Distribution Centers or Retail Chains\\nExplanation: 1. Distribution Centers: Companies that manage large-scale distribution centers could utilize this system to optimize inventory levels and improve supply chain efficiency. 2. Retail Chains: Large retail chains with complex supply chains might benefit from using this application to summarize and analyze data, identify trends, and make informed decisions.', \" Treasury Departments or Asset Management Divisions or Private Banking Units \\nExplanation: 1. Treasury Departments: The system might be used by investment banks' treasury departments to manage cash flows, optimize inventory levels, and streamline procurement processes. 2. Asset Management Divisions: Investment banks with asset management divisions could utilize this application to optimize supply chain management for their fund operations. 3. Private Banking Units: Private banking units within investment banks might benefit from using this system to manage wealth management services and optimize supply chain operations.\", ' Pharmacologists  or   Toxicologists or Clinical Trial Managers \\nExplanation: Experts that specialize in developing new treatments for various diseases might utilize this application to accelerate their research pipeline or to streamline the drug development process.\\n'], 'intents': ['Find patterns in healthcare insurance claims', 'Generative AI can optimize waste management processes. By analyzing historical data on waste generation, recycling rates, and resource utilization, generative models can generate optimized waste collection routes, recommend recycling strategies, and predict waste generation patterns. This helps in reducing waste generation, optimizing resource allocation, and promoting circular economy practices.', 'Summarize and analyze historic data, industry patterns, create multi-layered models that identify changes as occur, increase supply chain efficiency and optimize inventory levels', 'optimize supply chain management in Investment banks', \"In the context of drug repurposing, generative AI can be employed to analyze vast databases of existing drugs and their clinical trials data. By identifying patterns and similarities, the AI can suggest potential new therapeutic indications for existing drugs, based on the chemical structure and pharmacological properties of the APIs. This process can help streamline the drug development pipeline, as it would reduce the need for time-consuming and expensive clinical trials for new indications. For instance, a drug like Atorvastatin, which is currently used to lower cholesterol, could be repurposed for the treatment of diabetic nephropathy, a kidney disease, based on the AI's analysis of similar drugs and their clinical data. This would not only save resources but also provide new treatment options for patients suffering from this debilitating condition. \"]}}, '1': {'question': 'What domain is the system intended to be used in? Code/software engineering, Communications, Customer service/support, IT/business automation, Writing assistant, Financial, Technical, Product, Information retrieval, Marketing, Security, User Research, Strategy, Sales, Risk and Compliance, Design, Cybersecurity, Customer service/support & Healthcare, Talent and Organization including HR, Other', 'examples': {'answers': ['Other \\nExplanation: Since finding patterns from documents does not fall under any of the categories mentioned ', 'Strategy \\nExplanation: Since this task is to improve waste management processes using historical data', 'Strategy \\nExplanation: Since this task is to improve supply chain efficiency using trends and patterns', 'Customer service/support \\nExplanation: Since the task relates to human conversations or generating human converstations or support. Writing assitant \\nExplanation: Since this helps in improving the quality of text. It is not customer service since this on on the quality of text rather than helping in human conversations.', 'Strategy \\nExplanation: Since the task is involved in improving the processes to ensure better performance. It is not finance since the task is on supply chain optimization and not on financial aspects even though the application domain is banks.', 'Healthcare and strategy \\nExplanation: Since the task is related to healthcare and drug repurposing, which involves analyzing data related to drugs and their clinical trials, this falls under the healthcare domain. It also involves Strategy it talks about using patterns to create new treatment options\\n'], 'intents': ['Find patterns in healthcare insurance claims', 'Generative AI can optimize waste management processes. By analyzing historical data on waste generation, recycling rates, and resource utilization, generative models can generate optimized waste collection routes, recommend recycling strategies, and predict waste generation patterns. This helps in reducing waste generation, optimizing resource allocation, and promoting circular economy practices.', 'Summarize and analyze historic data, industry patterns, create multi-layered models that identify changes as occur, increase supply chain efficiency and optimize inventory levels', 'Ability to create dialog flows and integrations from natural language instructionscheck if a document has grammatical mistakes', 'optimize supply chain management in Investment banks', \"In the context of drug repurposing, generative AI can be employed to analyze vast databases of existing drugs and their clinical trials data. By identifying patterns and similarities, the AI can suggest potential new therapeutic indications for existing drugs, based on the chemical structure and pharmacological properties of the APIs. This process can help streamline the drug development pipeline, as it would reduce the need for time-consuming and expensive clinical trials for new indications. For instance, a drug like Atorvastatin, which is currently used to lower cholesterol, could be repurposed for the treatment of diabetic nephropathy, a kidney disease, based on the AI's analysis of similar drugs and their clinical data. This would not only save resources but also provide new treatment options for patients suffering from this debilitating condition. \"]}}, '2': {'question': 'What techniques are utilised in the system? Multi-modal: {Document Question/Answering, Image and text to text, Video and text to text, visual question answering}, Natural language processing: {feature extraction, fill mask, question answering, sentence similarity, summarization, table question answering, text classification, text generation, token classification, translation, zero shot classification}, computer vision: {image classification, image segmentation, text to image, object detection}, audio:{audio classification, audio to audio, text to speech}, tabular: {tabular classification, tabular regression}, reinforcement learning', 'examples': {'answers': ['Natural language processing: text classification \\nExplanation: Health insurance claims can be find patterns or to classify claims into categories (e.g., diagnosis, procedure, treatment). ', \"Natural language processing: text generation and reinforcement learning \\nExplanation: Text generation techniques are used to generate reports, recommendations, and insights from the analysis of historical data. and Reinforcement learning algorithms can be employed to optimize the generative model's performance in real-time, based on feedback from the environment (e.g., changes in waste generation rates).\", 'Natural Language Processing: Text Generation \\nExplanation: Techniques like Text Generation are employed to generate code snippets or dialog flows based on the classified instruction.'], 'intents': ['Find patterns in healthcare insurance claims', 'Generative AI can optimize waste management processes. By analyzing historical data on waste generation, recycling rates, and resource utilization, generative models can generate optimized waste collection routes, recommend recycling strategies, and predict waste generation patterns. This helps in reducing waste generation, optimizing resource allocation, and promoting circular economy practices.', 'Ability to create dialog flows and integrations from natural language instructionscheck if a document has grammatical mistakes']}}, '3': {'question': 'Who is the intended user of the system?', 'examples': {'answers': [' Insurance companies, government agencies, or other organizations responsible for reimbursing healthcare providers \\nExplanation: Healthcare payers need to efficiently process and reimburse claims while minimizing errors and disputes. By identifying patterns in claims data, they can automate routine tasks, detect potential errors or anomalies, and improve overall payment accuracy', ' Waste Management Companies \\nExplanation: Waste management companies need to efficiently collect and process waste while minimizing costs and environmental impact. By using generative AI to analyze historical data on waste generation, recycling rates, and resource utilization, they can optimize collection routes, reduce fuel consumption, and lower labor costs.', ' Supply Chain companies\\nExplanation: Supply chain managers need to efficiently manage inventory levels, shipping routes, and logistics operations while minimizing costs and maximizing customer satisfaction. By using the system to summarize and analyze historic data, industry patterns, and create multi-layered models that identify changes as they occur, supply chain managers can gain insights into optimal inventory levels, efficient shipping routes, and streamlined logistics processes', ' Investment banks or asset management banks \\nExplanation: have complex supply chains that involve the movement of goods, services, and financial instruments. By using the system to optimize supply chain management, financial institutions can minimize costs, maximize efficiency, and reduce risks associated with inventory levels, shipping routes, and logistics operations', ' Pharmaceutical Companies or  Biotechnology Companies \\nExplanation: companies have a vested interest in optimizing their product portfolios and reducing development costs. By using the system to analyze vast databases of existing drugs and clinical trials data, pharmaceutical companies can quickly identify potential new indications for existing medications, thereby streamlining the drug development pipeline\\n'], 'intents': ['Find patterns in healthcare insurance claims', 'Generative AI can optimize waste management processes. By analyzing historical data on waste generation, recycling rates, and resource utilization, generative models can generate optimized waste collection routes, recommend recycling strategies, and predict waste generation patterns. This helps in reducing waste generation, optimizing resource allocation, and promoting circular economy practices.', 'Summarize and analyze historic data, industry patterns, create multi-layered models that identify changes as occur, increase supply chain efficiency and optimize inventory levels', 'optimize supply chain management in Investment banks', \"In the context of drug repurposing, generative AI can be employed to analyze vast databases of existing drugs and their clinical trials data. By identifying patterns and similarities, the AI can suggest potential new therapeutic indications for existing drugs, based on the chemical structure and pharmacological properties of the APIs. This process can help streamline the drug development pipeline, as it would reduce the need for time-consuming and expensive clinical trials for new indications. For instance, a drug like Atorvastatin, which is currently used to lower cholesterol, could be repurposed for the treatment of diabetic nephropathy, a kidney disease, based on the AI's analysis of similar drugs and their clinical data. This would not only save resources but also provide new treatment options for patients suffering from this debilitating condition. \"]}}}\n"
          ]
        }
      ],
      "source": [
        "import json \n",
        "with open(\"cot.json\") as f:\n",
        "    cot = json.load(f)\n",
        "print(cot)"
      ]
    },
    {
      "cell_type": "code",
      "execution_count": 6,
      "metadata": {},
      "outputs": [],
      "source": [
        "def make_prompt(use_case, query, answers=[], intents=[]):\n",
        "    if len(answers) == 0:\n",
        "        cot_string = f\"Question: [Given: {use_case}] [Question: {query}]\\n\"\n",
        "    else:\n",
        "        assert len(answers) == len(intents), \"Few shot intents and answers should be the same length\"\n",
        "        cot_string = \"Few shot examples: \"\n",
        "        for index, cot_intent in enumerate(intents):\n",
        "            cot_answer = answers[index]\n",
        "            cot_string = cot_string + f\"Example: [Given: {cot_intent}] [Question: {query}] Output: [{cot_answer}]\\n\"\n",
        "        cot_string = cot_string + f\"Question: [Given: {use_case}] [Question: {query}]\\n\"\n",
        "    return cot_string"
      ]
    },
    {
      "cell_type": "code",
      "execution_count": 7,
      "metadata": {},
      "outputs": [],
      "source": [
        "def generate_few_shot(use_case, query, answers, intents):\n",
        "    print(len(answers), len(intents))\n",
        "    cot_string = make_prompt(use_case, query, answers, intents)\n",
        "    return cot_string"
      ]
    },
    {
      "cell_type": "code",
      "execution_count": 8,
      "metadata": {},
      "outputs": [
        {
          "name": "stdout",
          "output_type": "stream",
          "text": [
            "3 3\n"
          ]
        }
      ],
      "source": [
        "question = cot[\"2\"][\"question\"]\n",
        "cot_answers = cot[\"2\"][\"examples\"][\"answers\"]\n",
        "cot_intents = cot[\"2\"][\"examples\"][\"intents\"]\n",
        "usecase = \"Generate personalized, relevant responses, recommendations, and summaries of claims for customers to support agents to enhance their interactions with customers.\"\n",
        "\n",
        "cot_intent = generate_few_shot(usecase, question, cot_answers, cot_intents)\n"
      ]
    },
    {
      "cell_type": "code",
      "execution_count": 10,
      "metadata": {},
      "outputs": [
        {
          "data": {
            "image/png": "[encoded data removed]",
            "text/plain": [
              "<IPython.core.display.Image object>"
            ]
          },
          "metadata": {},
          "output_type": "display_data"
        },
        {
          "name": "stdout",
          "output_type": "stream",
          "text": [
            "Find AI task:\n",
            "Generate personalized, relevant responses, recommendations, and summaries of claims for customers to support agents to enhance their interactions with customers.\n",
            "\n",
            "--- --- ---\n",
            "\n",
            "AI task\n",
            "Based on the examples provided, here are some common themes and observations about the techniques utilized in various systems:\n",
            "\n",
            "1. **Natural Language Processing (NLP)**: NLP is a dominant technique across all examples, with multiple sub-techniques such as text classification, text generation, token classification, translation, zero-shot classification, feature extraction, fill mask, question answering, sentence similarity, summarization, and table question answering.\n",
            "2. **Reinforcement Learning (RL)**: RL is used in two out of three examples, where it is employed to optimize the performance of generative models or to generate code snippets/dialog flows based on classified instructions.\n",
            "3. **Text Generation**: Text generation techniques are used in multiple examples, such as generating reports, recommendations, insights from historical data, and personalized responses/recommendations for customers.\n",
            "4. **Computer Vision**: Computer vision is only mentioned in one example, where it is used for image classification, image segmentation, text-to-image, and object detection (although not explicitly stated to be utilized).\n",
            "5. **Multi-Modal**: Some examples mention multi-modal techniques, such as document question-answering, visual question answering, or video-and-text-to-text interactions, but these are not the primary techniques used in the system.\n",
            "6. **Tabular**: Tabular classification and regression are only mentioned in one example, where they are used for optimizing waste management processes.\n",
            "\n",
            "To answer questions about what techniques are utilized in a system, one should look for the presence of NLP, RL, text generation, computer vision (when explicitly mentioned), and tabular techniques. The exact combination and sub-techniques can provide insights into the specific application or use case of the system.\n",
            "\n",
            "--- --- ---\n",
            "\n"
          ]
        }
      ],
      "source": [
        "from typing_extensions import TypedDict\n",
        "from langgraph.graph import StateGraph, START, END\n",
        "from IPython.display import Image, display\n",
        "\n",
        "\n",
        "# Graph state\n",
        "class State(TypedDict):\n",
        "    intent: str\n",
        "    cot_intent: str\n",
        "    ai_task: str\n",
        "\n",
        "\n",
        "# Nodes\n",
        "def generate_zero_shot(state: State):\n",
        "\n",
        "    msg = llm.invoke(f\"{state['intent']}\")\n",
        "    return {\"ai_task\": msg}\n",
        "\n",
        "\n",
        "# Nodes\n",
        "def generate_few_shot(state: State):\n",
        "\n",
        "    msg = llm.invoke(f\"{state['cot_intent']}\")\n",
        "    return {\"ai_task\": msg}\n",
        "\n",
        "\n",
        "# Build workflow\n",
        "workflow = StateGraph(State)\n",
        "\n",
        "# Add nodes\n",
        "workflow.add_node(\"questionnaire\", generate_few_shot)\n",
        "\n",
        "# Add edges to connect nodes\n",
        "workflow.add_edge(START, \"questionnaire\")\n",
        "workflow.add_edge(\"questionnaire\", END)\n",
        "\n",
        "# Compile\n",
        "chain = workflow.compile()\n",
        "\n",
        "# Show workflow\n",
        "display(Image(chain.get_graph().draw_mermaid_png()))\n",
        "\n",
        "# Invoke\n",
        "state = chain.invoke({\"cot_intent\": cot_intent, \"intent\":usecase})\n",
        "print(\"Find AI task:\")\n",
        "print(state[\"intent\"])\n",
        "print(\"\\n--- --- ---\\n\")\n",
        "print(\"AI task\")\n",
        "print(state[\"ai_task\"])\n",
        "print(\"\\n--- --- ---\\n\")\n"
      ]
    }
  ],
  "metadata": {
    "accelerator": "GPU",
    "colab": {
      "authorship_tag": "ABX9TyNVz/E2qM0ep8akvseANEhB",
      "gpuType": "T4",
      "include_colab_link": true,
      "provenance": []
    },
    "kernelspec": {
      "display_name": "agentic_ai",
      "language": "python",
      "name": "python3"
    },
    "language_info": {
      "codemirror_mode": {
        "name": "ipython",
        "version": 3
      },
      "file_extension": ".py",
      "mimetype": "text/x-python",
      "name": "python",
      "nbconvert_exporter": "python",
      "pygments_lexer": "ipython3",
      "version": "3.11.11"
    }
  },
  "nbformat": 4,
  "nbformat_minor": 0
}
