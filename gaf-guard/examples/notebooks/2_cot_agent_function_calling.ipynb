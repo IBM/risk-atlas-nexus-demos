{
  "cells": [
    {
      "cell_type": "code",
      "execution_count": 3,
      "metadata": {},
      "outputs": [],
      "source": [
        "from langchain import PromptTemplate\n",
        "from langchain.chains import LLMChain\n",
        "from langchain.agents import AgentExecutor, Tool\n",
        "from langchain_core.messages import HumanMessage, AIMessage\n",
        "from langgraph.graph import Graph, StateGraph, START, END\n",
        "from langgraph.graph.message import add_messages\n",
        "\n",
        "from typing_extensions import TypedDict\n",
        "from typing import Dict, List, Optional, Tuple, Annotated\n",
        "\n",
        "# from tools import generate_few_shot\n",
        "from langchain_community.llms import Ollama"
      ]
    },
    {
      "cell_type": "markdown",
      "metadata": {},
      "source": [
        "### Native calls to LLMs.\n",
        "#### The output format is dependent on the LLM chosen. "
      ]
    },
    {
      "cell_type": "code",
      "execution_count": 4,
      "metadata": {},
      "outputs": [
        {
          "name": "stderr",
          "output_type": "stream",
          "text": [
            "/var/folders/gd/k9gshwns6mbb7q8c7yldbl9m0000gn/T/ipykernel_23355/491454016.py:1: LangChainDeprecationWarning: The class `Ollama` was deprecated in LangChain 0.3.1 and will be removed in 1.0.0. An updated version of the class exists in the :class:`~langchain-ollama package and should be used instead. To use it run `pip install -U :class:`~langchain-ollama` and import as `from :class:`~langchain_ollama import OllamaLLM``.\n",
            "  llm_llama = Ollama(\n"
          ]
        }
      ],
      "source": [
        "llm_llama = Ollama(\n",
        "    base_url='http://localhost:11434',\n",
        "    model=\"llama3.2\"\n",
        ")\n",
        "\n",
        "llm_granite = Ollama(\n",
        "    base_url='http://localhost:11434',\n",
        "    model=\"granite3.1-dense\"\n",
        ")\n"
      ]
    },
    {
      "cell_type": "code",
      "execution_count": 6,
      "metadata": {},
      "outputs": [
        {
          "name": "stdout",
          "output_type": "stream",
          "text": [
            "[{'question': 'In which environment is the system used?', 'examples': {'answers': [\"Insurance Claims Processing or Risk Management or Data Analytics \\nExplanation: 1. Insurance Claims Processing: The system might be used by an insurance company's claims processing department to analyze and identify patterns in healthcare insurance claims. 2. Risk Management: The system could be applied in risk management teams to detect potential risks and opportunities for cost savings. 3. Data Analytics: The system might be used by a data analytics team within the healthcare insurance company to identify patterns in claims data, helping to inform business decisions.\", 'Municipal Waste Management or Private Waste Management departments \\nExplanation: Waste management companies need to efficiently collect and process waste while minimizing costs and environmental impact. By using generative AI to analyze historical data on waste generation, recycling rates, and resource utilization, they can optimize collection routes, reduce fuel consumption, and lower labor costs.', 'Distribution Centers or Retail Chains\\nExplanation: 1. Distribution Centers: Companies that manage large-scale distribution centers could utilize this system to optimize inventory levels and improve supply chain efficiency. 2. Retail Chains: Large retail chains with complex supply chains might benefit from using this application to summarize and analyze data, identify trends, and make informed decisions.', \"Treasury Departments or Asset Management Divisions or Private Banking Units \\nExplanation: 1. Treasury Departments: The system might be used by investment banks' treasury departments to manage cash flows, optimize inventory levels, and streamline procurement processes. 2. Asset Management Divisions: Investment banks with asset management divisions could utilize this application to optimize supply chain management for their fund operations. 3. Private Banking Units: Private banking units within investment banks might benefit from using this system to manage wealth management services and optimize supply chain operations.\", 'Pharmacologists or Toxicologists or Clinical Trial Managers \\nExplanation: Experts that specialize in developing new treatments for various diseases might utilize this application to accelerate their research pipeline or to streamline the drug development process.'], 'intents': ['Find patterns in healthcare insurance claims', 'Generative AI can optimize waste management processes. By analyzing historical data on waste generation, recycling rates, and resource utilization, generative models can generate optimized waste collection routes, recommend recycling strategies, and predict waste generation patterns. This helps in reducing waste generation, optimizing resource allocation, and promoting circular economy practices.', 'Summarize and analyze historic data, industry patterns, create multi-layered models that identify changes as occur, increase supply chain efficiency and optimize inventory levels', 'optimize supply chain management in Investment banks', \"In the context of drug repurposing, generative AI can be employed to analyze vast databases of existing drugs and their clinical trials data. By identifying patterns and similarities, the AI can suggest potential new therapeutic indications for existing drugs, based on the chemical structure and pharmacological properties of the APIs. This process can help streamline the drug development pipeline, as it would reduce the need for time-consuming and expensive clinical trials for new indications. For instance, a drug like Atorvastatin, which is currently used to lower cholesterol, could be repurposed for the treatment of diabetic nephropathy, a kidney disease, based on the AI's analysis of similar drugs and their clinical data. This would not only save resources but also provide new treatment options for patients suffering from this debilitating condition. \"]}}, {'question': 'What domain is the system intended to be used in? Code/software engineering, Communications, Customer service/support, IT/business automation, Writing assistant, Financial, Technical, Product, Information retrieval, Marketing, Security, User Research, Strategy, Sales, Risk and Compliance, Design, Cybersecurity, Customer service/support & Healthcare, Talent and Organization including HR, Other', 'examples': {'answers': ['Other \\nExplanation: Since finding patterns from documents does not fall under any of the categories mentioned ', 'Strategy \\nExplanation: Since this task is to improve waste management processes using historical data', 'Strategy \\nExplanation: Since this task is to improve supply chain efficiency using trends and patterns', 'Customer service/support \\nExplanation: Since the task relates to human conversations or generating human converstations or support. Writing assitant \\nExplanation: Since this helps in improving the quality of text. It is not customer service since this on on the quality of text rather than helping in human conversations.', 'Strategy \\nExplanation: Since the task is involved in improving the processes to ensure better performance. It is not finance since the task is on supply chain optimization and not on financial aspects even though the application domain is banks.', 'Healthcare and strategy \\nExplanation: Since the task is related to healthcare and drug repurposing, which involves analyzing data related to drugs and their clinical trials, this falls under the healthcare domain. It also involves Strategy it talks about using patterns to create new treatment options.'], 'intents': ['Find patterns in healthcare insurance claims', 'Generative AI can optimize waste management processes. By analyzing historical data on waste generation, recycling rates, and resource utilization, generative models can generate optimized waste collection routes, recommend recycling strategies, and predict waste generation patterns. This helps in reducing waste generation, optimizing resource allocation, and promoting circular economy practices.', 'Summarize and analyze historic data, industry patterns, create multi-layered models that identify changes as occur, increase supply chain efficiency and optimize inventory levels', 'Ability to create dialog flows and integrations from natural language instructionscheck if a document has grammatical mistakes', 'optimize supply chain management in Investment banks', \"In the context of drug repurposing, generative AI can be employed to analyze vast databases of existing drugs and their clinical trials data. By identifying patterns and similarities, the AI can suggest potential new therapeutic indications for existing drugs, based on the chemical structure and pharmacological properties of the APIs. This process can help streamline the drug development pipeline, as it would reduce the need for time-consuming and expensive clinical trials for new indications. For instance, a drug like Atorvastatin, which is currently used to lower cholesterol, could be repurposed for the treatment of diabetic nephropathy, a kidney disease, based on the AI's analysis of similar drugs and their clinical data. This would not only save resources but also provide new treatment options for patients suffering from this debilitating condition. \"]}}, {'question': 'What techniques are utilised in the system? Multi-modal: {Document Question/Answering, Image and text to text, Video and text to text, visual question answering}, Natural language processing: {feature extraction, fill mask, question answering, sentence similarity, summarization, table question answering, text classification, text generation, token classification, translation, zero shot classification}, computer vision: {image classification, image segmentation, text to image, object detection}, audio:{audio classification, audio to audio, text to speech}, tabular: {tabular classification, tabular regression}, reinforcement learning', 'examples': {'answers': ['Natural language processing: text classification \\nExplanation: Health insurance claims can be find patterns or to classify claims into categories (e.g., diagnosis, procedure, treatment).', \"Natural language processing: text generation and reinforcement learning \\nExplanation: Text generation techniques are used to generate reports, recommendations, and insights from the analysis of historical data. and Reinforcement learning algorithms can be employed to optimize the generative model's performance in real-time, based on feedback from the environment (e.g., changes in waste generation rates).\", \"Natural Language Processing: Text Classification and Token Classification \\nExplanation: Specifically, Text Classification is used to classify the input text into categories such as 'grammatically correct' or 'contains grammatical errors' Techniques like token classification (also known as part-of-speech tagging) are employed to analyze the document's structure and identify potential grammatical mistakes\"], 'intents': ['Find patterns in healthcare insurance claims', 'Generative AI can optimize waste management processes. By analyzing historical data on waste generation, recycling rates, and resource utilization, generative models can generate optimized waste collection routes, recommend recycling strategies, and predict waste generation patterns. This helps in reducing waste generation, optimizing resource allocation, and promoting circular economy practices.', 'Ability to create dialog flows and integrations from natural language instructionscheck if a document has grammatical mistakes']}}, {'question': 'Who is the intended user of the system?', 'examples': {'answers': ['Insurance companies, government agencies, or other organizations responsible for reimbursing healthcare providers \\nExplanation: Healthcare payers need to efficiently process and reimburse claims while minimizing errors and disputes. By identifying patterns in claims data, they can automate routine tasks, detect potential errors or anomalies, and improve overall payment accuracy', 'Waste Management Companies \\nExplanation: Waste management companies need to efficiently collect and process waste while minimizing costs and environmental impact. By using generative AI to analyze historical data on waste generation, recycling rates, and resource utilization, they can optimize collection routes, reduce fuel consumption, and lower labor costs.', 'Supply Chain companies\\nExplanation: Supply chain managers need to efficiently manage inventory levels, shipping routes, and logistics operations while minimizing costs and maximizing customer satisfaction. By using the system to summarize and analyze historic data, industry patterns, and create multi-layered models that identify changes as they occur, supply chain managers can gain insights into optimal inventory levels, efficient shipping routes, and streamlined logistics processes', 'Investment banks or asset management banks \\nExplanation: have complex supply chains that involve the movement of goods, services, and financial instruments. By using the system to optimize supply chain management, financial institutions can minimize costs, maximize efficiency, and reduce risks associated with inventory levels, shipping routes, and logistics operations', 'Pharmaceutical Companies or  Biotechnology Companies \\nExplanation: companies have a vested interest in optimizing their product portfolios and reducing development costs. By using the system to analyze vast databases of existing drugs and clinical trials data, pharmaceutical companies can quickly identify potential new indications for existing medications, thereby streamlining the drug development pipeline'], 'intents': ['Find patterns in healthcare insurance claims', 'Generative AI can optimize waste management processes. By analyzing historical data on waste generation, recycling rates, and resource utilization, generative models can generate optimized waste collection routes, recommend recycling strategies, and predict waste generation patterns. This helps in reducing waste generation, optimizing resource allocation, and promoting circular economy practices.', 'Summarize and analyze historic data, industry patterns, create multi-layered models that identify changes as occur, increase supply chain efficiency and optimize inventory levels', 'optimize supply chain management in Investment banks', \"In the context of drug repurposing, generative AI can be employed to analyze vast databases of existing drugs and their clinical trials data. By identifying patterns and similarities, the AI can suggest potential new therapeutic indications for existing drugs, based on the chemical structure and pharmacological properties of the APIs. This process can help streamline the drug development pipeline, as it would reduce the need for time-consuming and expensive clinical trials for new indications. For instance, a drug like Atorvastatin, which is currently used to lower cholesterol, could be repurposed for the treatment of diabetic nephropathy, a kidney disease, based on the AI's analysis of similar drugs and their clinical data. This would not only save resources but also provide new treatment options for patients suffering from this debilitating condition. \"]}}, {'question': 'What is the intended purpose of the system?', 'examples': {'answers': ['To create a centralized monitoring system that allows executives to visualize key sales metrics, identify trends, and make data-driven decisions about resource allocation and business strategy.', 'To design an automated HR workflow that streamlines the employee onboarding experience, reducing administrative burden and improving the overall efficiency of the organization.', 'To develop a predictive analytics system that identifies high-value potential customers and provides actionable insights for sales teams, enabling them to prioritize leads and optimize marketing efforts.', 'To create a virtual replica of the physical manufacturing environment, allowing operations teams to analyze and optimize production workflows, reduce waste, and improve overall efficiency and quality'], 'intents': ['Provide a dashboard to track sales performance by region and product line', 'Automate the process of onboarding new employees, including generating necessary documents and assigning benefits', 'Create a recommendation engine to suggest potential clients based on our existing customer base and sales history', 'Develop a digital twin of our manufacturing process to simulate production schedules, equipment usage, and material requirements']}}, {'question': 'What is the application of the system?', 'examples': {'answers': ['Natural Language Processing (NLP): Analyze sales data to identify trends, patterns, and correlations between regions, products, and sales metrics.\\n Machine Learning (ML): Develop predictive models to forecast future sales performance based on historical data and seasonal fluctuations.\\n Computer Vision: Integrate with CRM systems to visualize sales pipelines, track customer interactions, and monitor pipeline health.', 'Robotic Process Automation (RPA): Automate manual tasks such as generating new hire paperwork, updating HR systems, and scheduling interviews. \\n Document Generation: Use AI-powered document generation tools to create customized new hire packets, including contracts, benefits information, and employee handbooks. Predictive Analytics: Analyze new hire data to identify potential risks or challenges and provide personalized recommendations for onboarding.', 'Collaborative Filtering: Analyze customer behavior and preferences to identify patterns and correlations that can inform product recommendations.\\n Knowledge Graph: Build a graph-based knowledge model of customers, products, and services to enable more accurate matchings.\\n Text Analysis: Use NLP to analyze customer feedback and reviews to identify sentiment trends and improve product development.', 'Simulation Software: Develop AI-powered simulation models that can predict production outcomes under various scenarios, including equipment failures or material shortages.\\n Predictive Maintenance: Analyze sensor data from equipment to predict maintenance needs and optimize scheduling. \\n Optimization Engine: Use machine learning algorithms to optimize production processes and minimize waste.'], 'intents': ['Provide a dashboard to track sales performance by region and product line', 'Automate the process of onboarding new employees, including generating necessary documents and assigning benefits', 'Create a recommendation engine to suggest potential clients based on our existing customer base and sales history', 'Develop a digital twin of our manufacturing process to simulate production schedules, equipment usage, and material requirements']}}, {'question': 'What is the subject of the system?', 'examples': {'answers': ['Employees.The system would need to track and analyze data on employee productivity, engagement, and performance across various locations.', 'Business Customers. The system would need to manage data on business customer interactions, including: Customer contact information and preferences, Purchase history and payment records, Invoicing and payment tracking', 'Corporate Travelers. The system would need to collect and analyze data on the preferences and behavior of high-value corporate travelers, including: Customer flight information and itineraries, Hotel reservations and preferences, meal choices and dining experiences', 'Equipment Owners. The system would need to manage data on the condition and usage of critical equipment, including: Equipment serial numbers and models, Maintenance history and records, Sensor data and sensor readings'], 'intents': ['Provide real-time visibility into employee productivity and engagement across multiple locations', 'Automate invoicing and payment processing for large B2B customers', 'Create a personalized travel experience for high-value corporate clients', 'Develop a predictive maintenance model for critical equipment across multiple industries']}}]\n"
          ]
        }
      ],
      "source": [
        "import json \n",
        "with open(\n",
        "    \"/Users/dhaval/Projects/Usage-Governance/agentic-governance/data/risk_questionnaire_examples.json\"\n",
        ") as f:\n",
        "    cot = json.load(f)\n",
        "print(cot)"
      ]
    },
    {
      "cell_type": "code",
      "execution_count": 7,
      "metadata": {},
      "outputs": [
        {
          "ename": "TypeError",
          "evalue": "list indices must be integers or slices, not str",
          "output_type": "error",
          "traceback": [
            "\u001b[31m---------------------------------------------------------------------------\u001b[39m",
            "\u001b[31mTypeError\u001b[39m                                 Traceback (most recent call last)",
            "\u001b[36mCell\u001b[39m\u001b[36m \u001b[39m\u001b[32mIn[7]\u001b[39m\u001b[32m, line 1\u001b[39m\n\u001b[32m----> \u001b[39m\u001b[32m1\u001b[39m cot_question = \u001b[43mcot\u001b[49m\u001b[43m[\u001b[49m\u001b[33;43m\"\u001b[39;49m\u001b[33;43m3\u001b[39;49m\u001b[33;43m\"\u001b[39;49m\u001b[43m]\u001b[49m[\u001b[33m\"\u001b[39m\u001b[33mquestion\u001b[39m\u001b[33m\"\u001b[39m]\n\u001b[32m      2\u001b[39m cot_answers = cot[\u001b[33m\"\u001b[39m\u001b[33m3\u001b[39m\u001b[33m\"\u001b[39m][\u001b[33m\"\u001b[39m\u001b[33mexamples\u001b[39m\u001b[33m\"\u001b[39m][\u001b[33m\"\u001b[39m\u001b[33manswers\u001b[39m\u001b[33m\"\u001b[39m]\n\u001b[32m      3\u001b[39m cot_intents = cot[\u001b[33m\"\u001b[39m\u001b[33m3\u001b[39m\u001b[33m\"\u001b[39m][\u001b[33m\"\u001b[39m\u001b[33mexamples\u001b[39m\u001b[33m\"\u001b[39m][\u001b[33m\"\u001b[39m\u001b[33mintents\u001b[39m\u001b[33m\"\u001b[39m]\n",
            "\u001b[31mTypeError\u001b[39m: list indices must be integers or slices, not str"
          ]
        }
      ],
      "source": [
        "cot_question = cot[\"3\"][\"question\"]\n",
        "cot_answers = cot[\"3\"][\"examples\"][\"answers\"]\n",
        "cot_intents = cot[\"3\"][\"examples\"][\"intents\"]\n",
        "cot_explanations = cot[\"3\"][\"examples\"][\"explanations\"]\n",
        "usecase = \"Generate personalized, relevant responses, recommendations, and summaries of claims for customers to support agents to enhance their interactions with customers.\""
      ]
    },
    {
      "cell_type": "markdown",
      "metadata": {},
      "source": [
        "### Function calling with LLMs.\n",
        "#### The output format should be independent on the LLM chosen. "
      ]
    },
    {
      "cell_type": "code",
      "execution_count": null,
      "metadata": {},
      "outputs": [],
      "source": [
        "from langchain_core.messages import AIMessage\n",
        "from langgraph.graph import END, StateGraph\n",
        "from typing import TypedDict\n",
        "from langchain_core.tools import tool\n",
        "from langchain_ollama import ChatOllama\n",
        "from pydantic import BaseModel, Field\n",
        "from langchain.prompts import ChatPromptTemplate, SystemMessagePromptTemplate, HumanMessagePromptTemplate\n"
      ]
    },
    {
      "cell_type": "code",
      "execution_count": null,
      "metadata": {},
      "outputs": [],
      "source": [
        "from langchain_ollama import ChatOllama\n",
        "\n",
        "ollama = ChatOllama(\n",
        "    model = \"llama3.2\",\n",
        "    temperature = 0.,\n",
        "    num_predict = 256,\n",
        "    # other params ...\n",
        ")"
      ]
    },
    {
      "cell_type": "code",
      "execution_count": null,
      "metadata": {},
      "outputs": [],
      "source": [
        "from pydantic import BaseModel, Field\n",
        "\n",
        "class AITaskFormat(BaseModel):\n",
        "    \"\"\"AI Task Format.\"\"\"\n",
        "    answer: str = Field(description=\"AI Tasks\")\n",
        "    question: str = Field(description=\"The question on prompt relevance\")\n",
        "    explanation: int = Field(description=\"Explanations for why the prompt is relevant or not relevant\")"
      ]
    },
    {
      "cell_type": "code",
      "execution_count": null,
      "metadata": {},
      "outputs": [],
      "source": [
        "# Reference: https://blog.gopenai.com/zeroshot-fewshot-and-prompt-chaining-using-langchain-4259d700d67f\n",
        "class FewShot:\n",
        "    def __init__(self):\n",
        "        self.examples = []\n",
        "        self.prefix = f\"\"\"\n",
        "        I want you to play the role of a compliance officer and answer the question\n",
        "        Return the question, answer and explanation in a json format where question, answer and explanation are keys of the json exactly as shown in the examples.\n",
        "        you should answer the question followed by an explanation on how that answer was generated. \n",
        "        \"\"\"\n",
        "\n",
        "    def set_examples(self, examples):\n",
        "        self.examples = examples\n",
        "        return self.examples\n",
        "\n",
        "    def get_examples(self):\n",
        "        return self.examples\n",
        "\n",
        "    def get_example_template(self):\n",
        "        template = \"\"\"\n",
        "        Question: {question}\n",
        "        Answer: {answer}\n",
        "        \"\"\"\n",
        "        example_variables = [\"question\", \"answer\", \"explanation\"]\n",
        "        return template, example_variables\n",
        "\n",
        "    def get_prefix(self):\n",
        "        return f\"\"\"\n",
        "        I want you to play the role of a compliance officer and answer the question\n",
        "        Return the question, answer and explanation in a json format where question, answer and explanation are keys of the json exactly as shown in the examples.\n",
        "        you should answer the question followed by an explanation on how that answer was generated. \n",
        "        \"\"\"\n",
        "\n",
        "    def get_suffix(self):\n",
        "        return \"\"\"\n",
        "                Question: {question}\n",
        "                \"\"\""
      ]
    },
    {
      "cell_type": "code",
      "execution_count": null,
      "metadata": {},
      "outputs": [],
      "source": [
        "# Reference: https://blog.gopenai.com/zeroshot-fewshot-and-prompt-chaining-using-langchain-4259d700d67f\n",
        "\n",
        "import os\n",
        "from langchain import PromptTemplate\n",
        "from langchain.prompts.few_shot import FewShotPromptTemplate\n",
        "from langchain.chat_models import ChatOpenAI\n",
        "from langchain.prompts import ChatPromptTemplate\n",
        "\n",
        "\n",
        "class FewShotUtility:\n",
        "\n",
        "    def __init__(self, examples, prefix, suffix, input_variables, example_template, example_variables):\n",
        "        self.examples = examples\n",
        "        self.prefix = prefix\n",
        "        self.suffix = suffix\n",
        "        self.input_variables = input_variables\n",
        "        self.example_template = example_template\n",
        "        self.example_variables = example_variables\n",
        "\n",
        "    def get_prompt(self, question):\n",
        "        prompt_template = FewShotPromptTemplate(\n",
        "            examples=self.examples,\n",
        "            example_prompt=self.get_prompt_template(),\n",
        "            prefix=self.prefix,\n",
        "            suffix=self.suffix,\n",
        "            input_variables=self.input_variables\n",
        "        )\n",
        "        prompt = prompt_template.format(question=question)\n",
        "        return prompt\n",
        "\n",
        "    def get_prompt_template(self):\n",
        "        example_prompt = PromptTemplate(\n",
        "            input_variables=self.example_variables,\n",
        "            template=self.example_template\n",
        "        )\n",
        "        return example_prompt\n",
        "\n",
        "    def get_ai_tasks(self, prompt):\n",
        "        prompt_template = ChatPromptTemplate.from_template(prompt)\n",
        "        message = prompt_template.format_messages()\n",
        "        structured_llm = ollama.with_structured_output(AITaskFormat, method=\"function_calling\")\n",
        "        response = structured_llm.invoke(message)\n",
        "        return response\n"
      ]
    },
    {
      "cell_type": "code",
      "execution_count": 10,
      "metadata": {},
      "outputs": [],
      "source": [
        "from typing import Optional\n",
        "\n",
        "from typing_extensions import Annotated, TypedDict\n",
        "\n",
        "\n",
        "# TypedDict\n",
        "class AITaskFormat(TypedDict):\n",
        "\n",
        "    question: Annotated[str, ..., \"The question and use case of the prompt\"]\n",
        "    answer: Annotated[str, ..., \"The AI tasks for the use case\"]\n",
        "    explanation: Annotated[str, None, \"Explanations for why the AI tasks were selected\"]"
      ]
    },
    {
      "cell_type": "code",
      "execution_count": null,
      "metadata": {},
      "outputs": [
        {
          "data": {
            "text/plain": [
              "[{'question': 'For the usecase:Find patterns in healthcare insurance claimsWho is the intended user of the system?',\n",
              "  'answer': ' Insurance companies, government agencies, or other organizations responsible for reimbursing healthcare providers ',\n",
              "  'explanation': ' Healthcare payers need to efficiently process and reimburse claims while minimizing errors and disputes. By identifying patterns in claims data, they can automate routine tasks, detect potential errors or anomalies, and improve overall payment accuracy'},\n",
              " {'question': 'For the usecase:Generative AI can optimize waste management processes. By analyzing historical data on waste generation, recycling rates, and resource utilization, generative models can generate optimized waste collection routes, recommend recycling strategies, and predict waste generation patterns. This helps in reducing waste generation, optimizing resource allocation, and promoting circular economy practices.Who is the intended user of the system?',\n",
              "  'answer': ' Waste Management Companies ',\n",
              "  'explanation': '  Waste management companies need to efficiently collect and process waste while minimizing costs and environmental impact. By using generative AI to analyze historical data on waste generation, recycling rates, and resource utilization, they can optimize collection routes, reduce fuel consumption, and lower labor costs.'},\n",
              " {'question': 'For the usecase:Summarize and analyze historic data, industry patterns, create multi-layered models that identify changes as occur, increase supply chain efficiency and optimize inventory levelsWho is the intended user of the system?',\n",
              "  'answer': ' Supply Chain companies',\n",
              "  'explanation': ' Supply chain managers need to efficiently manage inventory levels, shipping routes, and logistics operations while minimizing costs and maximizing customer satisfaction. By using the system to summarize and analyze historic data, industry patterns, and create multi-layered models that identify changes as they occur, supply chain managers can gain insights into optimal inventory levels, efficient shipping routes, and streamlined logistics processes'},\n",
              " {'question': 'For the usecase:optimize supply chain management in Investment banksWho is the intended user of the system?',\n",
              "  'answer': ' Investment banks or asset management banks ',\n",
              "  'explanation': ' They have complex supply chains that involve the movement of goods, services, and financial instruments. By using the system to optimize supply chain management, financial institutions can minimize costs, maximize efficiency, and reduce risks associated with inventory levels, shipping routes, and logistics operations'},\n",
              " {'question': \"For the usecase:In the context of drug repurposing, generative AI can be employed to analyze vast databases of existing drugs and their clinical trials data. By identifying patterns and similarities, the AI can suggest potential new therapeutic indications for existing drugs, based on the chemical structure and pharmacological properties of the APIs. This process can help streamline the drug development pipeline, as it would reduce the need for time-consuming and expensive clinical trials for new indications. For instance, a drug like Atorvastatin, which is currently used to lower cholesterol, could be repurposed for the treatment of diabetic nephropathy, a kidney disease, based on the AI's analysis of similar drugs and their clinical data. This would not only save resources but also provide new treatment options for patients suffering from this debilitating condition. Who is the intended user of the system?\",\n",
              "  'answer': ' Pharmaceutical Companies or  Biotechnology Companies ',\n",
              "  'explanation': ' companies have a vested interest in optimizing their product portfolios and reducing development costs. By using the system to analyze vast databases of existing drugs and clinical trials data, pharmaceutical companies can quickly identify potential new indications for existing medications, thereby streamlining the drug development pipeline\\n'}]"
            ]
          },
          "execution_count": 11,
          "metadata": {},
          "output_type": "execute_result"
        }
      ],
      "source": [
        "fewshot = FewShot()\n",
        "examples = []\n",
        "for i in range(len(cot_answers)):\n",
        "    examples.append({\"question\": \"For the usecase:\" + cot_intents[i] + cot_question, \"answer\": cot_answers[i], \"explanation\": cot_explanations[i]})\n",
        "    \n",
        "fewshot.set_examples(examples=examples)"
      ]
    },
    {
      "cell_type": "code",
      "execution_count": null,
      "metadata": {},
      "outputs": [
        {
          "data": {
            "image/png": "[encoded data removed]",
            "text/plain": [
              "<IPython.core.display.Image object>"
            ]
          },
          "metadata": {},
          "output_type": "display_data"
        },
        {
          "name": "stdout",
          "output_type": "stream",
          "text": [
            "Find AI task:\n",
            "Generate personalized, relevant responses, recommendations, and summaries of claims for customers to support agents to enhance their interactions with customers.\n",
            "\n",
            "--- --- ---\n",
            "\n",
            "AI task\n",
            "Insurance companies, government agencies, or other organizations responsible for reimbursing healthcare providers\n",
            "\n",
            "--- --- ---\n",
            "\n"
          ]
        }
      ],
      "source": [
        "from typing_extensions import TypedDict\n",
        "from langgraph.graph import StateGraph, START, END\n",
        "from IPython.display import Image, display\n",
        "\n",
        "# Graph state\n",
        "class AI_TASK(TypedDict):\n",
        "    question: str\n",
        "    answer: str\n",
        "    explanation: str\n",
        "\n",
        "class State(TypedDict):\n",
        "    intent: str\n",
        "    ai_task: AI_TASK\n",
        "\n",
        "\n",
        "# Nodes\n",
        "def generate_zero_shot(state: State):\n",
        "    msg = llm_llama.invoke(f\"{state['intent']}\")\n",
        "    return {\"ai_task\": msg}\n",
        "\n",
        "\n",
        "# Nodes\n",
        "def generate_few_shot_llama(state: State):\n",
        "    examples = fewshot.get_examples()\n",
        "    prefix = fewshot.get_prefix()\n",
        "    suffix = fewshot.get_suffix()\n",
        "    example_template, example_variables = fewshot.get_example_template()\n",
        "    fewShot = FewShotUtility(examples=examples,\n",
        "                            prefix=prefix,\n",
        "                            suffix=suffix,\n",
        "                            input_variables=[\"question\"],\n",
        "                            example_template=example_template,\n",
        "                            example_variables=example_variables\n",
        "                            )\n",
        "    question = \"For the usecase: \" + state['intent'] + \",\" + cot_question\n",
        "\n",
        "    prompt = fewShot.get_prompt(question)\n",
        "    msg = fewShot.get_ai_tasks(prompt)\n",
        "\n",
        "    return {\"ai_task\": msg}\n",
        "\n",
        "\n",
        "\n",
        "# Build workflow\n",
        "workflow = StateGraph(State)\n",
        "\n",
        "# Add nodes\n",
        "workflow.add_node(\"questionnaire_llama\", generate_few_shot_llama)\n",
        "\n",
        "\n",
        "\n",
        "# Add edges to connect nodes\n",
        "workflow.add_edge(START, \"questionnaire_llama\")\n",
        "\n",
        "workflow.add_edge(\"questionnaire_llama\", END)\n",
        "\n",
        "# Compile\n",
        "chain = workflow.compile()\n",
        "\n",
        "# Show workflow\n",
        "display(Image(chain.get_graph().draw_mermaid_png()))\n",
        "\n",
        "# Invoke\n",
        "state = chain.invoke({\"intent\":usecase})\n",
        "\n",
        "print(\"Find AI task:\")\n",
        "print(state[\"intent\"])\n",
        "print(\"\\n--- --- ---\\n\")\n",
        "print(\"AI task\")\n",
        "print(state[\"ai_task\"][\"answer\"])\n",
        "print(\"\\n--- --- ---\\n\")\n"
      ]
    }
  ],
  "metadata": {
    "accelerator": "GPU",
    "colab": {
      "authorship_tag": "ABX9TyNVz/E2qM0ep8akvseANEhB",
      "gpuType": "T4",
      "include_colab_link": true,
      "provenance": []
    },
    "kernelspec": {
      "display_name": "agentic",
      "language": "python",
      "name": "python3"
    },
    "language_info": {
      "codemirror_mode": {
        "name": "ipython",
        "version": 3
      },
      "file_extension": ".py",
      "mimetype": "text/x-python",
      "name": "python",
      "nbconvert_exporter": "python",
      "pygments_lexer": "ipython3",
      "version": "3.11.4"
    }
  },
  "nbformat": 4,
  "nbformat_minor": 0
}
