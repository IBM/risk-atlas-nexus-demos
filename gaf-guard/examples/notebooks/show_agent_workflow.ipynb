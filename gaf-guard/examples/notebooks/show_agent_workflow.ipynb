{
 "cells": [
  {
   "cell_type": "code",
   "execution_count": null,
   "metadata": {},
   "outputs": [],
   "source": [
    "from IPython.display import Image, display\n",
    "from langgraph.checkpoint.memory import MemorySaver\n",
    "from gaf_guard.agents import (\n",
    "    OrchestratorAgent,\n",
    "    RiskGeneratorAgent,\n",
    "    RisksAssessmentAgent,\n",
    "    DriftMonitoringAgent,\n",
    "    HumanInTheLoopAgent,\n",
    "    StreamAgent,\n",
    ")\n",
    "from langchain_core.runnables.graph import CurveStyle, MermaidDrawMethod\n",
    "import asyncio\n",
    "\n",
    "risk_generator = RiskGeneratorAgent()\n",
    "risk_generator.compile(MemorySaver(), inference_engine=None)\n",
    "hitl = HumanInTheLoopAgent()\n",
    "hitl.compile(MemorySaver(), inference_engine=None)\n",
    "stream = StreamAgent()\n",
    "stream.compile(MemorySaver(), inference_engine=None)\n",
    "risk_assessor = RisksAssessmentAgent()\n",
    "risk_assessor.compile(MemorySaver(), inference_engine=None)\n",
    "drift_monitor = DriftMonitoringAgent()\n",
    "drift_monitor.compile(MemorySaver(), inference_engine=None)\n",
    "\n",
    "agent = OrchestratorAgent()\n",
    "agent.compile(\n",
    "    MemorySaver(),\n",
    "    RiskGeneratorAgent=risk_generator,\n",
    "    HumanInTheLoopAgent=hitl,\n",
    "    StreamAgent=stream,\n",
    "    RisksAssessmentAgent=risk_assessor,\n",
    "    DriftMonitoringAgent=drift_monitor,\n",
    ")\n",
    "\n",
    "display(\n",
    "    Image(\n",
    "        agent.workflow.get_graph(xray=3).draw_mermaid_png(\n",
    "            curve_style=CurveStyle.CATMULL_ROM, wrap_label_n_words=20, max_retries=50\n",
    "        )\n",
    "    )\n",
    ")"
   ]
  }
 ],
 "metadata": {
  "kernelspec": {
   "display_name": "gaf-guard",
   "language": "python",
   "name": "python3"
  },
  "language_info": {
   "codemirror_mode": {
    "name": "ipython",
    "version": 3
   },
   "file_extension": ".py",
   "mimetype": "text/x-python",
   "name": "python",
   "nbconvert_exporter": "python",
   "pygments_lexer": "ipython3",
   "version": "3.11.4"
  }
 },
 "nbformat": 4,
 "nbformat_minor": 2
}
