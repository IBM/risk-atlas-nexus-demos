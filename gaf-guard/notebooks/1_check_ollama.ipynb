{
  "cells": [
    {
      "cell_type": "code",
      "execution_count": 1,
      "metadata": {},
      "outputs": [
        {
          "name": "stdout",
          "output_type": "stream",
          "text": [
            "The sky appears blue because of a phenomenon called scattering, which occurs when sunlight interacts with the tiny molecules of gases in the Earth's atmosphere. Here's a simplified explanation:\n",
            "\n",
            "1. **Sunlight enters the atmosphere**: When sunlight from the sun enters our atmosphere, it contains all the colors of the visible spectrum (red, orange, yellow, green, blue, indigo, and violet).\n",
            "2. **Scattering occurs**: The tiny molecules of gases in the atmosphere, such as nitrogen (N2) and oxygen (O2), scatter the light in all directions. This scattering is more pronounced for shorter wavelengths, like blue and violet.\n",
            "3. **Blue light is scattered more**: Since blue light has a shorter wavelength, it is scattered by the atmospheric molecules more efficiently than other colors. This means that most of the blue light is dispersed throughout the atmosphere, rather than traveling in a straight line to our eyes.\n",
            "4. **Our eyes see the scattered light**: When we look up at the sky, our eyes receive the scattered blue light from all directions. This is why the sky appears blue, especially during the daytime when the sun is overhead.\n",
            "\n",
            "**Why isn't the sky red or purple?**\n",
            "\n",
            "The sky can appear more red or orange during sunrise and sunset due to a phenomenon called Rayleigh scattering, which is similar to the scattering that occurs for shorter wavelengths. However, this scattering effect is less pronounced for longer wavelengths like red and orange light. Additionally, atmospheric particles like dust and pollution can scatter light in ways that affect the apparent color of the sky.\n",
            "\n",
            "**Other factors that influence sky color**\n",
            "\n",
            "The color of the sky can also be influenced by:\n",
            "\n",
            "* **Atmospheric conditions**: Pollution, dust, water vapor, and other gases in the atmosphere can alter the way light scatters, affecting the apparent color of the sky.\n",
            "* **Time of day**: The angle of the sun and the position of the observer on Earth affect the scattering of light, leading to changes in sky color during sunrise and sunset.\n",
            "* **Altitude and distance**: The altitude and distance from the Earth's surface can also impact the apparent color of the sky.\n",
            "\n",
            "I hope this explanation helps you understand why the sky appears blue!\n",
            "The sky appears blue because of a phenomenon called scattering, which occurs when sunlight interacts with the tiny molecules of gases in the Earth's atmosphere. Here's a simplified explanation:\n",
            "\n",
            "1. **Sunlight enters the atmosphere**: When sunlight from the sun enters our atmosphere, it contains all the colors of the visible spectrum (red, orange, yellow, green, blue, indigo, and violet).\n",
            "2. **Scattering occurs**: The tiny molecules of gases in the atmosphere, such as nitrogen (N2) and oxygen (O2), scatter the light in all directions. This scattering is more pronounced for shorter wavelengths, like blue and violet.\n",
            "3. **Blue light is scattered more**: Since blue light has a shorter wavelength, it is scattered by the atmospheric molecules more efficiently than other colors. This means that most of the blue light is dispersed throughout the atmosphere, rather than traveling in a straight line to our eyes.\n",
            "4. **Our eyes see the scattered light**: When we look up at the sky, our eyes receive the scattered blue light from all directions. This is why the sky appears blue, especially during the daytime when the sun is overhead.\n",
            "\n",
            "**Why isn't the sky red or purple?**\n",
            "\n",
            "The sky can appear more red or orange during sunrise and sunset due to a phenomenon called Rayleigh scattering, which is similar to the scattering that occurs for shorter wavelengths. However, this scattering effect is less pronounced for longer wavelengths like red and orange light. Additionally, atmospheric particles like dust and pollution can scatter light in ways that affect the apparent color of the sky.\n",
            "\n",
            "**Other factors that influence sky color**\n",
            "\n",
            "The color of the sky can also be influenced by:\n",
            "\n",
            "* **Atmospheric conditions**: Pollution, dust, water vapor, and other gases in the atmosphere can alter the way light scatters, affecting the apparent color of the sky.\n",
            "* **Time of day**: The angle of the sun and the position of the observer on Earth affect the scattering of light, leading to changes in sky color during sunrise and sunset.\n",
            "* **Altitude and distance**: The altitude and distance from the Earth's surface can also impact the apparent color of the sky.\n",
            "\n",
            "I hope this explanation helps you understand why the sky appears blue!\n"
          ]
        }
      ],
      "source": [
        "from ollama import chat\n",
        "from ollama import ChatResponse\n",
        "\n",
        "response: ChatResponse = chat(model='llama3.2', messages=[\n",
        "  {\n",
        "    'role': 'user',\n",
        "    'content': 'Why is the sky blue?',\n",
        "  },\n",
        "])\n",
        "print(response['message']['content'])\n",
        "# or access fields directly from the response object\n",
        "print(response.message.content)"
      ]
    },
    {
      "cell_type": "code",
      "execution_count": 2,
      "metadata": {},
      "outputs": [
        {
          "name": "stderr",
          "output_type": "stream",
          "text": [
            "/var/folders/9f/zvq77g9s0dj61sn2k6jj75hr0000gn/T/ipykernel_13208/1819463242.py:2: LangChainDeprecationWarning: The class `Ollama` was deprecated in LangChain 0.3.1 and will be removed in 1.0.0. An updated version of the class exists in the :class:`~langchain-ollama package and should be used instead. To use it run `pip install -U :class:`~langchain-ollama` and import as `from :class:`~langchain_ollama import OllamaLLM``.\n",
            "  ollama = Ollama(\n"
          ]
        }
      ],
      "source": [
        "from langchain_community.llms import Ollama\n",
        "ollama = Ollama(\n",
        "    base_url='http://localhost:11434',\n",
        "    model=\"llama3.2\"\n",
        ")"
      ]
    },
    {
      "cell_type": "code",
      "execution_count": 3,
      "metadata": {},
      "outputs": [
        {
          "name": "stdout",
          "output_type": "stream",
          "text": [
            "The sky appears blue to our eyes due to a phenomenon called Rayleigh scattering, named after the British physicist Lord Rayleigh. Here's what happens:\n",
            "\n",
            "1. **Sunlight and its colors**: When sunlight enters Earth's atmosphere, it consists of different wavelengths (colors) of light, including red, orange, yellow, green, blue, indigo, and violet.\n",
            "2. **Scattering by air molecules**: As sunlight travels through the atmosphere, it encounters tiny molecules of gases like nitrogen and oxygen. These molecules scatter the shorter (blue) wavelengths of light more than the longer (red) wavelengths.\n",
            "3. **Angle of incidence**: When sunlight hits an air molecule, the blue light is scattered in all directions, but most intensely when the angle of incidence is around 90 degrees (perpendicular to the surface). This is known as Rayleigh scattering.\n",
            "4. **Blue light dominance**: The shorter wavelengths of light, like blue and violet, are scattered more than the longer wavelengths, such as red and orange. As a result, our eyes perceive the blue light more intensely, giving us the impression that the sky is blue.\n",
            "\n",
            "**Why not violet?** You might wonder why we see blue rather than violet when sunlight interacts with air molecules. There's an important distinction to make:\n",
            "\n",
            "* Violet light has an even shorter wavelength (around 380-450 nanometers) than blue light.\n",
            "* When violet light hits an air molecule, it is scattered almost as much as blue light, but our eyes are more sensitive to blue light due to its slightly longer wavelength.\n",
            "\n",
            "**Additional factors**: While Rayleigh scattering explains the blue color of the sky, there are other factors that can affect its appearance:\n",
            "\n",
            "* **Atmospheric conditions**: Pollution, dust, water vapor, and aerosols in the atmosphere can scatter light in different ways, altering the apparent color of the sky.\n",
            "* **Sun's position**: When the sun is low on the horizon, the light has to travel through more of the atmosphere to reach our eyes, which scatters the shorter wavelengths (blue) even more, making the sky appear more blue and red at sunset.\n",
            "\n",
            "In summary, the sky appears blue because of Rayleigh scattering: when sunlight interacts with air molecules in the atmosphere, it scatters shorter wavelengths like blue light, which reaches our eyes from all directions.\n"
          ]
        }
      ],
      "source": [
        "print(ollama.invoke(\"why is the sky blue\"))  # OpenAI compatibility\n"
      ]
    }
  ],
  "metadata": {
    "accelerator": "GPU",
    "colab": {
      "authorship_tag": "ABX9TyNVz/E2qM0ep8akvseANEhB",
      "gpuType": "T4",
      "include_colab_link": true,
      "provenance": []
    },
    "kernelspec": {
      "display_name": "agentic_ai",
      "language": "python",
      "name": "python3"
    },
    "language_info": {
      "codemirror_mode": {
        "name": "ipython",
        "version": 3
      },
      "file_extension": ".py",
      "mimetype": "text/x-python",
      "name": "python",
      "nbconvert_exporter": "python",
      "pygments_lexer": "ipython3",
      "version": "3.11.11"
    }
  },
  "nbformat": 4,
  "nbformat_minor": 0
}
