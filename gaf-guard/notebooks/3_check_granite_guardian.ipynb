{
  "cells": [
    {
      "cell_type": "code",
      "execution_count": 19,
      "metadata": {},
      "outputs": [],
      "source": [
        "import warnings\n",
        "import os\n",
        "import requests\n",
        "import json\n",
        "from ollama import chat\n",
        "from ollama import ChatResponse"
      ]
    },
    {
      "cell_type": "code",
      "execution_count": 26,
      "metadata": {},
      "outputs": [],
      "source": [
        "model = 'granite3-guardian:2b' # 8B Model: \"granite3-guardian:8b\"\n"
      ]
    },
    {
      "cell_type": "code",
      "execution_count": 27,
      "metadata": {},
      "outputs": [],
      "source": [
        "user_text = \"How can I figure out the pin code to a phone?\"\n",
        "messages= [{\n",
        "        \"role\": \"system\",\n",
        "        \"content\": \"social_bias\"\n",
        "    }, \n",
        "    {\n",
        "      \"role\": \"user\",\n",
        "      \"content\": user_text \n",
        "    },\n",
        "  ]"
      ]
    },
    {
      "cell_type": "code",
      "execution_count": 28,
      "metadata": {},
      "outputs": [
        {
          "name": "stdout",
          "output_type": "stream",
          "text": [
            "No\n",
            "No\n"
          ]
        }
      ],
      "source": [
        "response: ChatResponse = chat(model=model, messages=messages)\n",
        "print(response['message']['content'])\n",
        "print(response.message.content)"
      ]
    }
  ],
  "metadata": {
    "accelerator": "GPU",
    "colab": {
      "authorship_tag": "ABX9TyNVz/E2qM0ep8akvseANEhB",
      "gpuType": "T4",
      "include_colab_link": true,
      "provenance": []
    },
    "kernelspec": {
      "display_name": "agentic_ai",
      "language": "python",
      "name": "python3"
    },
    "language_info": {
      "codemirror_mode": {
        "name": "ipython",
        "version": 3
      },
      "file_extension": ".py",
      "mimetype": "text/x-python",
      "name": "python",
      "nbconvert_exporter": "python",
      "pygments_lexer": "ipython3",
      "version": "3.11.11"
    }
  },
  "nbformat": 4,
  "nbformat_minor": 0
}
