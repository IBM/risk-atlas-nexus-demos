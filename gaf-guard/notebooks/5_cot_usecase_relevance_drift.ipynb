{
  "cells": [
    {
      "cell_type": "code",
      "execution_count": 1,
      "metadata": {},
      "outputs": [],
      "source": [
        "from langchain import PromptTemplate\n",
        "from langchain.chains import LLMChain\n",
        "from langchain.agents import AgentExecutor, Tool\n",
        "from langchain_core.messages import HumanMessage, AIMessage\n",
        "from langgraph.graph import Graph, StateGraph, START, END\n",
        "from langgraph.graph.message import add_messages\n",
        "from langchain_openai import ChatOpenAI\n",
        "    \n",
        "from typing_extensions import TypedDict\n",
        "from typing import Dict, List, Optional, Tuple, Annotated\n",
        "\n",
        "from ollama import chat\n",
        "from ollama import ChatResponse\n",
        "from langchain_community.llms import Ollama\n"
      ]
    },
    {
      "cell_type": "code",
      "execution_count": 2,
      "metadata": {},
      "outputs": [],
      "source": [
        "model = 'llama3.2' # 8B Model: \"granite3-guardian:8b\"\n"
      ]
    },
    {
      "cell_type": "code",
      "execution_count": 3,
      "metadata": {},
      "outputs": [],
      "source": [
        "usecase = \"Generate personalized, relevant responses, recommendations, and summaries of claims for customers to support agents to enhance their interactions with customers.\""
      ]
    },
    {
      "cell_type": "code",
      "execution_count": 5,
      "metadata": {},
      "outputs": [],
      "source": [
        "from langchain_ollama import ChatOllama\n",
        "\n",
        "ollama = ChatOllama(\n",
        "    model = \"llama3.2\",\n",
        "    temperature = 0.,\n",
        "    num_predict = 256,\n",
        "    # other params ...\n",
        ")"
      ]
    },
    {
      "cell_type": "code",
      "execution_count": 6,
      "metadata": {},
      "outputs": [],
      "source": [
        "intents = [\"Usecase: Chatbot for personalized healthcare\", \"Usecase: Chatbot for personalized healthcare\", \"Usecase: Chatbot for personalized healthcare\", \"Usecase: Time series forecasting using LLMs\"]\n",
        "answers = [\"No\", \"Maybe\", \"Yes\", \"Yes\"]\n",
        "questions = [\"Given the use-case is the following prompt relevant. Prompt: What is the date of the football World Cup? One-word answer in Yes/No/Maybe\", \"Given the use-case is the following prompt relevant. Prompt: Can I get a refund on my deposit since the insurance claim went through. One-word answer in Yes/No/Maybe\",\"Given the use-case is the following prompt relevant. Prompt: Now that my tests are in the system, is it possible to get a doctor’s appointment?. One-word answer in Yes/No/Maybe\", \"Given the use-case is the following prompt relevant. Prompt: Given the sales dataset, what is the forecasted sales for the next quarter . One-word answer in Yes/No/Maybe\"]"
      ]
    },
    {
      "cell_type": "code",
      "execution_count": 7,
      "metadata": {},
      "outputs": [],
      "source": [
        "def make_prompt(use_case, queries, final_query, answers=[], intents=[]):\n",
        "    if len(answers) == 0:\n",
        "        cot_string = f\"[Given: {use_case}] [Question: {query}]\\n\"\n",
        "    else:\n",
        "        assert len(answers) == len(intents), \"Few shot intents and answers should be the same length\"\n",
        "        cot_string = \"Few shot examples: \"\n",
        "        for index, cot_intent in enumerate(intents):\n",
        "            cot_answer = answers[index]\n",
        "            query = queries[index]\n",
        "            cot_string = cot_string + f\"Example: [Given: {cot_intent}] [Question: {query}] Output: [{cot_answer}]\\n\"\n",
        "        cot_string = cot_string + f\"Question: [Given: {use_case}] [Question: {final_query}]\\n\"\n",
        "    return cot_string\n",
        "\n",
        "def generate_few_shot(use_case, queries, final_query, answers, intents):\n",
        "    cot_string = make_prompt(use_case, queries, final_query, answers, intents)\n",
        "    responses = ollama.invoke(cot_string)\n",
        "    return responses\n"
      ]
    },
    {
      "cell_type": "code",
      "execution_count": 10,
      "metadata": {},
      "outputs": [],
      "source": [
        "usecase = \"Generate personalized, relevant responses, recommendations, and summaries of claims for customers to support agents to enhance their interactions with customers.\"\n"
      ]
    },
    {
      "cell_type": "code",
      "execution_count": 11,
      "metadata": {},
      "outputs": [
        {
          "data": {
            "image/png": "[encoded data removed]",
            "text/plain": [
              "<IPython.core.display.Image object>"
            ]
          },
          "metadata": {},
          "output_type": "display_data"
        },
        {
          "name": "stdout",
          "output_type": "stream",
          "text": [
            "Check drift in prompts:\n",
            "content='[Given: Generate personalized, relevant responses, recommendations, and summaries of claims for customers to support agents to enhance their interactions with customers.]\\n\\n[Question: Given the use-case is the following prompt relevant. Prompt: what is the weather today.]\\n\\nOutput: [Maybe]' additional_kwargs={} response_metadata={'model': 'llama3.2', 'created_at': '2025-03-10T20:52:32.645392Z', 'done': True, 'done_reason': 'stop', 'total_duration': 1852233917, 'load_duration': 26907792, 'prompt_eval_count': 330, 'prompt_eval_duration': 191000000, 'eval_count': 54, 'eval_duration': 1632000000, 'message': Message(role='assistant', content='', images=None, tool_calls=None)} id='run-2eae5b8a-4ecb-4d2d-8b46-2653758c37bf-0' usage_metadata={'input_tokens': 330, 'output_tokens': 54, 'total_tokens': 384}\n",
            "content='[Given: Generate personalized, relevant responses, recommendations, and summaries of claims for customers to support agents to enhance their interactions with customers.]\\n\\n[Question: Given the use-case is the following prompt relevant. Prompt: what is the weather today.]\\n\\nOutput: [Maybe]' additional_kwargs={} response_metadata={'model': 'llama3.2', 'created_at': '2025-03-10T20:52:34.178972Z', 'done': True, 'done_reason': 'stop', 'total_duration': 1531067417, 'load_duration': 10208917, 'prompt_eval_count': 330, 'prompt_eval_duration': 27000000, 'eval_count': 54, 'eval_duration': 1493000000, 'message': Message(role='assistant', content='', images=None, tool_calls=None)} id='run-f867970c-90ba-4a11-ba7b-76a1807ab2de-0' usage_metadata={'input_tokens': 330, 'output_tokens': 54, 'total_tokens': 384}\n",
            "content='[Given: Generate personalized, relevant responses, recommendations, and summaries of claims for customers to support agents to enhance their interactions with customers.]\\n\\n[Question: Given the use-case is the following prompt relevant. Prompt: what is the weather today.]\\n\\nOutput: [Maybe]' additional_kwargs={} response_metadata={'model': 'llama3.2', 'created_at': '2025-03-10T20:52:35.731228Z', 'done': True, 'done_reason': 'stop', 'total_duration': 1548944458, 'load_duration': 11172958, 'prompt_eval_count': 330, 'prompt_eval_duration': 28000000, 'eval_count': 54, 'eval_duration': 1508000000, 'message': Message(role='assistant', content='', images=None, tool_calls=None)} id='run-383154a4-3260-4f09-a97f-b346f2a10daa-0' usage_metadata={'input_tokens': 330, 'output_tokens': 54, 'total_tokens': 384}\n",
            "content='[Given: Generate personalized, relevant responses, recommendations, and summaries of claims for customers to support agents to enhance their interactions with customers.]\\n\\n[Question: Given the use-case is the following prompt relevant. Prompt: what is the weather today.]\\n\\nOutput: [Maybe]' additional_kwargs={} response_metadata={'model': 'llama3.2', 'created_at': '2025-03-10T20:52:37.303511Z', 'done': True, 'done_reason': 'stop', 'total_duration': 1571057917, 'load_duration': 11154667, 'prompt_eval_count': 330, 'prompt_eval_duration': 30000000, 'eval_count': 54, 'eval_duration': 1528000000, 'message': Message(role='assistant', content='', images=None, tool_calls=None)} id='run-a1ac5018-a9b2-48e3-a5cd-8551bf21fe1c-0' usage_metadata={'input_tokens': 330, 'output_tokens': 54, 'total_tokens': 384}\n",
            "content='[Given: Generate personalized, relevant responses, recommendations, and summaries of claims for customers to support agents to enhance their interactions with customers.]\\n\\n[Question: Given the use-case is the following prompt relevant. Prompt: what is the weather today.]\\n\\nOutput: [Maybe]' additional_kwargs={} response_metadata={'model': 'llama3.2', 'created_at': '2025-03-10T20:52:38.87884Z', 'done': True, 'done_reason': 'stop', 'total_duration': 1572087250, 'load_duration': 10224042, 'prompt_eval_count': 330, 'prompt_eval_duration': 28000000, 'eval_count': 54, 'eval_duration': 1532000000, 'message': Message(role='assistant', content='', images=None, tool_calls=None)} id='run-fbaaed95-7606-4a30-9409-49080a97c153-0' usage_metadata={'input_tokens': 330, 'output_tokens': 54, 'total_tokens': 384}\n",
            "content='[Given: Generate personalized, relevant responses, recommendations, and summaries of claims for customers to support agents to enhance their interactions with customers.]\\n\\n[Question: Given the use-case is the following prompt relevant. Prompt: what is the weather today.]\\n\\nOutput: [Maybe]' additional_kwargs={} response_metadata={'model': 'llama3.2', 'created_at': '2025-03-10T20:52:40.504794Z', 'done': True, 'done_reason': 'stop', 'total_duration': 1620074916, 'load_duration': 10546083, 'prompt_eval_count': 330, 'prompt_eval_duration': 28000000, 'eval_count': 54, 'eval_duration': 1580000000, 'message': Message(role='assistant', content='', images=None, tool_calls=None)} id='run-a47ae57e-72b8-42fe-acab-49fc018cc657-0' usage_metadata={'input_tokens': 330, 'output_tokens': 54, 'total_tokens': 384}\n",
            "content='[Given: Generate personalized, relevant responses, recommendations, and summaries of claims for customers to support agents to enhance their interactions with customers.]\\n\\n[Question: Given the use-case is the following prompt relevant. Prompt: what is the weather today.]\\n\\nOutput: [Maybe]' additional_kwargs={} response_metadata={'model': 'llama3.2', 'created_at': '2025-03-10T20:52:42.042769Z', 'done': True, 'done_reason': 'stop', 'total_duration': 1532541750, 'load_duration': 10704875, 'prompt_eval_count': 330, 'prompt_eval_duration': 29000000, 'eval_count': 54, 'eval_duration': 1491000000, 'message': Message(role='assistant', content='', images=None, tool_calls=None)} id='run-5c6d0e29-b764-476b-8a3d-d93768f16753-0' usage_metadata={'input_tokens': 330, 'output_tokens': 54, 'total_tokens': 384}\n",
            "content='[Given: Generate personalized, relevant responses, recommendations, and summaries of claims for customers to support agents to enhance their interactions with customers.]\\n\\n[Question: Given the use-case is the following prompt relevant. Prompt: what is the weather today.]\\n\\nOutput: [Maybe]' additional_kwargs={} response_metadata={'model': 'llama3.2', 'created_at': '2025-03-10T20:52:43.620155Z', 'done': True, 'done_reason': 'stop', 'total_duration': 1572547333, 'load_duration': 10702958, 'prompt_eval_count': 330, 'prompt_eval_duration': 28000000, 'eval_count': 54, 'eval_duration': 1532000000, 'message': Message(role='assistant', content='', images=None, tool_calls=None)} id='run-1a2e3ea8-0cea-4e07-87bd-da1970a4864b-0' usage_metadata={'input_tokens': 330, 'output_tokens': 54, 'total_tokens': 384}\n",
            "content='[Given: Generate personalized, relevant responses, recommendations, and summaries of claims for customers to support agents to enhance their interactions with customers.]\\n\\n[Question: Given the use-case is the following prompt relevant. Prompt: what is the weather today.]\\n\\nOutput: [Maybe]' additional_kwargs={} response_metadata={'model': 'llama3.2', 'created_at': '2025-03-10T20:52:45.194396Z', 'done': True, 'done_reason': 'stop', 'total_duration': 1569330708, 'load_duration': 11232708, 'prompt_eval_count': 330, 'prompt_eval_duration': 28000000, 'eval_count': 54, 'eval_duration': 1529000000, 'message': Message(role='assistant', content='', images=None, tool_calls=None)} id='run-e432d84b-6920-443b-9ce8-a1a2f7115062-0' usage_metadata={'input_tokens': 330, 'output_tokens': 54, 'total_tokens': 384}\n",
            "content='[Given: Generate personalized, relevant responses, recommendations, and summaries of claims for customers to support agents to enhance their interactions with customers.]\\n\\n[Question: Given the use-case is the following prompt relevant. Prompt: what is the weather today.]\\n\\nOutput: [Maybe]' additional_kwargs={} response_metadata={'model': 'llama3.2', 'created_at': '2025-03-10T20:52:46.748236Z', 'done': True, 'done_reason': 'stop', 'total_duration': 1547520750, 'load_duration': 10952500, 'prompt_eval_count': 330, 'prompt_eval_duration': 30000000, 'eval_count': 54, 'eval_duration': 1506000000, 'message': Message(role='assistant', content='', images=None, tool_calls=None)} id='run-6f2932b5-8a97-4933-9a7a-ffa10ac6f557-0' usage_metadata={'input_tokens': 330, 'output_tokens': 54, 'total_tokens': 384}\n",
            "state 10\n",
            "Alert: Potential drift in prompts identified\n",
            "\n",
            "\n",
            "--- --- ---\n",
            "\n"
          ]
        }
      ],
      "source": [
        "from langchain_community.llms import Ollama\n",
        "from typing_extensions import TypedDict\n",
        "from langgraph.graph import StateGraph, START, END\n",
        "from IPython.display import Image, display\n",
        "\n",
        "\n",
        "\n",
        "# Graph state\n",
        "class State(TypedDict):\n",
        "    intent: str\n",
        "    initial_drift_value: int\n",
        "    drift_value: int\n",
        "    drift_threshold: int \n",
        "    prompt: str\n",
        "\n",
        "def message_template(user_text, risk_name):\n",
        "    messages= [{\n",
        "        \"role\": \"system\",\n",
        "        \"content\": risk_name\n",
        "    }, \n",
        "    {\n",
        "      \"role\": \"user\",\n",
        "      \"content\": user_text \n",
        "    },\n",
        "    ]\n",
        "    return messages\n",
        "\n",
        "\n",
        "# Nodes\n",
        "def setup(state: State):\n",
        "    state['drift_value'] = 0\n",
        "    return state\n",
        "\n",
        "def check_prompt_relevance(state: State):\n",
        "    for i in range(10): \n",
        "        usecase = state['intent']\n",
        "        prompt = state['prompt']\n",
        "        final_query = \"Given the use-case is the following prompt relevant. Prompt:\" + prompt + \".\" + \"Answer in Yes/No/Maybe Output:\"\n",
        "        output = generate_few_shot(use_case=usecase, queries=questions, final_query=final_query, answers=answers, intents=intents)\n",
        "        print(output)\n",
        "        if \"Yes\" or \"Maybe\" in output:\n",
        "            state['drift_value'] = state['drift_value'] + 1\n",
        "\n",
        "    print(\"state\", state['drift_value'])\n",
        "    return {\"drift_value\": state['drift_value']}\n",
        "\n",
        "def incident_reporting(state: State):\n",
        "    if (state['drift_value'] > state['drift_threshold']):\n",
        "        incident_report = \"Alert: Potential drift in prompts identified\\n\"\n",
        "        print(incident_report)\n",
        "    else:\n",
        "        incident_report = \"None\"\n",
        "        print(\"No drift detected\\n\")\n",
        "    return {\"incident_report\": incident_report}\n",
        "\n",
        "# Build workflow\n",
        "workflow = StateGraph(State)\n",
        "\n",
        "# Add nodes\n",
        "workflow.add_node(\"setup\", setup)\n",
        "workflow.add_node(\"check_prompt_relevance\", check_prompt_relevance)\n",
        "workflow.add_node(\"incident_reporting\", incident_reporting)\n",
        "\n",
        "# Add edges to connect nodes\n",
        "workflow.add_edge(START, \"setup\")\n",
        "\n",
        "workflow.add_edge(\"setup\", \"check_prompt_relevance\")\n",
        "workflow.add_edge(\"check_prompt_relevance\", \"incident_reporting\")\n",
        "\n",
        "workflow.add_edge(\"incident_reporting\", END)\n",
        "\n",
        "# Compile\n",
        "chain = workflow.compile()\n",
        "\n",
        "# Show workflow\n",
        "display(Image(chain.get_graph().draw_mermaid_png()))\n",
        "\n",
        "# Invoke\n",
        "print(\"Check drift in prompts:\")\n",
        "prompt1 = \"what is the weather today\"\n",
        "state = chain.invoke({\"drift_threshold\":2, 'intent': usecase, 'prompt': prompt1})\n",
        "print(\"\\n--- --- ---\\n\")\n",
        "\n",
        "\n",
        "\n",
        "\n",
        "\n"
      ]
    }
  ],
  "metadata": {
    "accelerator": "GPU",
    "colab": {
      "authorship_tag": "ABX9TyNVz/E2qM0ep8akvseANEhB",
      "gpuType": "T4",
      "include_colab_link": true,
      "provenance": []
    },
    "kernelspec": {
      "display_name": "agentic",
      "language": "python",
      "name": "python3"
    },
    "language_info": {
      "codemirror_mode": {
        "name": "ipython",
        "version": 3
      },
      "file_extension": ".py",
      "mimetype": "text/x-python",
      "name": "python",
      "nbconvert_exporter": "python",
      "pygments_lexer": "ipython3",
      "version": "3.11.4"
    }
  },
  "nbformat": 4,
  "nbformat_minor": 0
}
